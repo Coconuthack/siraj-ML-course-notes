{
  "nbformat": 4,
  "nbformat_minor": 0,
  "metadata": {
    "colab": {
      "name": "Week3Live.ipynb",
      "version": "0.3.2",
      "provenance": [],
      "collapsed_sections": [],
      "include_colab_link": true
    },
    "kernelspec": {
      "name": "python3",
      "display_name": "Python 3"
    }
  },
  "cells": [
    {
      "cell_type": "markdown",
      "metadata": {
        "id": "view-in-github",
        "colab_type": "text"
      },
      "source": [
        "<a href=\"https://colab.research.google.com/github/Coconuthack/siraj-ML-course-notes/blob/master/Week3Live-Notes.ipynb\" target=\"_parent\"><img src=\"https://colab.research.google.com/assets/colab-badge.svg\" alt=\"Open In Colab\"/></a>"
      ]
    },
    {
      "cell_type": "markdown",
      "metadata": {
        "id": "63tZ0e9Btabq",
        "colab_type": "text"
      },
      "source": [
        "# Week 3 Live Notes\n",
        "https://www.youtube.com/watch?v=0-don-KKyUM\n",
        "\n",
        "onenote notes: [link here](https://onedrive.live.com/view.aspx?resid=35F7BB09F4425B3D%216127&id=documents&wd=target%28SirajML.one%7CCBAC4426-C64C-B74B-AD6F-9AC37CE46E0E%2FWeek%203%20Notes%7C2467118F-DB8A-46E4-90C2-DBD86B455AB1%2F%29onenote:https://d.docs.live.net/35f7bb09f4425b3d/OLD/Documents/ML%202019/SirajML.one#Week%203%20Notes&section-id={CBAC4426-C64C-B74B-AD6F-9AC37CE46E0E}&page-id={2467118F-DB8A-46E4-90C2-DBD86B455AB1}&end)"
      ]
    },
    {
      "cell_type": "code",
      "metadata": {
        "id": "iI827HE4nD4J",
        "colab_type": "code",
        "colab": {}
      },
      "source": [
        "import numpy as np\n",
        "import sklearn as sk\n",
        "import pandas as pd\n",
        "import sklearn.preprocessing as scale\n",
        "import random\n"
      ],
      "execution_count": 0,
      "outputs": []
    },
    {
      "cell_type": "code",
      "metadata": {
        "id": "dJu6Vredp36y",
        "colab_type": "code",
        "colab": {}
      },
      "source": [
        "df = pd.read_csv('/content/creditcard.csv')"
      ],
      "execution_count": 0,
      "outputs": []
    },
    {
      "cell_type": "code",
      "metadata": {
        "id": "4R-U1NOloh2A",
        "colab_type": "code",
        "colab": {}
      },
      "source": [
        "fraud = df.loc[df['Class'] == 1]"
      ],
      "execution_count": 0,
      "outputs": []
    },
    {
      "cell_type": "code",
      "metadata": {
        "id": "BS9_D7SorHEP",
        "colab_type": "code",
        "colab": {}
      },
      "source": [
        "from sklearn import linear_model\n",
        "from sklearn.model_selection import train_test_split"
      ],
      "execution_count": 0,
      "outputs": []
    },
    {
      "cell_type": "code",
      "metadata": {
        "id": "oCfJ0Sy3qhOX",
        "colab_type": "code",
        "colab": {}
      },
      "source": [
        "x = df.iloc[:,:-1]\n",
        "y = df['Class']\n",
        "\n",
        "# split right down the middle\n",
        "\n",
        "X_train, X_test, y_train, y_test = train_test_split(x,y, test_size=0.35)\n",
        "\n",
        "# why no tab completion?\n",
        "\n",
        "\n",
        "\n"
      ],
      "execution_count": 0,
      "outputs": []
    },
    {
      "cell_type": "code",
      "metadata": {
        "id": "jc27j0UgsFHl",
        "colab_type": "code",
        "colab": {}
      },
      "source": [
        "logistic = linear_model.LogisticRegression(C=1e5)"
      ],
      "execution_count": 0,
      "outputs": []
    },
    {
      "cell_type": "code",
      "metadata": {
        "id": "TO4IyJs4q2Eu",
        "colab_type": "code",
        "colab": {}
      },
      "source": [
        "# C? penalty term , staistical theory, important param of logisit regression"
      ],
      "execution_count": 0,
      "outputs": []
    },
    {
      "cell_type": "markdown",
      "metadata": {
        "id": "f4EKqDEhrVgt",
        "colab_type": "text"
      },
      "source": [
        ""
      ]
    },
    {
      "cell_type": "code",
      "metadata": {
        "id": "qXX43_mJrSVC",
        "colab_type": "code",
        "colab": {}
      },
      "source": [
        "y_predicted = np.array(logistic.predict(X_test))\n",
        "print(y_predicted)"
      ],
      "execution_count": 0,
      "outputs": []
    },
    {
      "cell_type": "markdown",
      "metadata": {
        "id": "war58b5BriIn",
        "colab_type": "text"
      },
      "source": [
        "try out different testing sizes\n",
        "use google collab plugin that also inputs timer form video ? hmmm intersting\n"
      ]
    },
    {
      "cell_type": "markdown",
      "metadata": {
        "id": "4fvJRWD-ro-Q",
        "colab_type": "text"
      },
      "source": [
        "## Q&Aa time\n",
        "\n",
        "- how did oyu select C ? params selection to prevent overfitting  EL5 Il explanation?\n",
        "- how do you know its overfitting? you see it form the **visualization** see if it goes through everything\n",
        "- Stripe Alternatives? X for India, Nothing works for China? we should make one.. others: Braintree , **PayPal**\n",
        "- **IMPORTANT ANSWQER**Hours needed to study? 4-5 hours a day spending deep immersed in silence any topic, i can you too, secret = be alone!\n",
        "- Kai-fuu lee trying to make the bridge China and the world\n",
        "- Those who graduate will be referred to 1/6 companies i Have partner ships\n",
        "- *Personal note* :\n",
        "- Age as a limitation? looks forward to it to learn all day... no need useful energy to go spend but could be studying all day\n",
        "- 46:30, skip the gym? happy but go work at the gym after this hahahahaha he will cycle for 45 minutes... a lot of things to learn so he needs his brain to work so that he can learn better\n",
        "- How best create dataset? use pandas to clearly label all the columns, remove empty dataset etc... hmmmm -> *i cna answer some more *\n",
        "\n",
        "# Closing Remarks\n",
        "- send questions in Discord, do Homework this week and start thinking about Startup Idea\n",
        "- Goal: paywalled Web Application in group as a distributed team\n"
      ]
    }
  ]
}